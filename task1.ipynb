{
  "cells": [
    {
      "cell_type": "code",
      "execution_count": 1,
      "metadata": {
        "colab": {
          "base_uri": "https://localhost:8080/"
        },
        "id": "Z3mW2iM-F3oS",
        "outputId": "32188516-88d1-42c3-ba6a-0219b427f314"
      },
      "outputs": [
        {
          "name": "stdout",
          "output_type": "stream",
          "text": [
            "Mounted at /content/drive\n"
          ]
        }
      ],
      "source": [
        "# mount drive\n",
        "from google.colab import drive\n",
        "drive.mount('/content/drive')"
      ]
    },
    {
      "cell_type": "code",
      "execution_count": 2,
      "metadata": {
        "colab": {
          "base_uri": "https://localhost:8080/"
        },
        "id": "N8GmIcaGGWXP",
        "outputId": "d7c6ba2e-8f97-4291-dcc8-6ca162ae648b"
      },
      "outputs": [
        {
          "name": "stdout",
          "output_type": "stream",
          "text": [
            "drive  sample_data\n"
          ]
        }
      ],
      "source": [
        "!ls"
      ]
    },
    {
      "cell_type": "code",
      "execution_count": 20,
      "metadata": {
        "id": "198cVFpGcQwt"
      },
      "outputs": [],
      "source": [
        "# -------------------------------\n",
        "# ✅ STEP 0: Change these\n",
        "# -------------------------------\n",
        "DATASET_FOLDER = \"/content/drive/MyDrive/TestDataSet\"      # <-- CHANGE to your dataset folder name\n",
        "LABELS_JSON    = \"/content/drive/MyDrive/TestDataSet/labels_list.json\"       # <-- CHANGE to your label JSON file"
      ]
    },
    {
      "cell_type": "code",
      "execution_count": 22,
      "metadata": {
        "colab": {
          "base_uri": "https://localhost:8080/"
        },
        "id": "dcZCBH_dI48w",
        "outputId": "28821717-eecc-4555-8b6d-080a08ee3c53"
      },
      "outputs": [
        {
          "name": "stdout",
          "output_type": "stream",
          "text": [
            "Using device: cuda\n"
          ]
        },
        {
          "name": "stderr",
          "output_type": "stream",
          "text": [
            " 12%|█▎        | 2/16 [00:00<00:02,  5.46it/s]"
          ]
        },
        {
          "name": "stdout",
          "output_type": "stream",
          "text": [
            "Example 1: GT=  1 (accordion) | Pred=  1 (accordion) | Top5=[1]\n",
            "Example 2: GT=  1 (accordion) | Pred=  1 (accordion) | Top5=[1]\n",
            "Example 3: GT=  1 (accordion) | Pred=  1 ([Unknown]) | Top5=[1]\n",
            "Example 4: GT=  1 (accordion) | Pred=  1 (accordion) | Top5=[1]\n",
            "Example 5: GT=  2 (acoustic guitar) | Pred=  2 ([Unknown]) | Top5=[2, 20, 86]\n"
          ]
        },
        {
          "name": "stderr",
          "output_type": "stream",
          "text": [
            "100%|██████████| 16/16 [00:03<00:00,  4.90it/s]"
          ]
        },
        {
          "name": "stdout",
          "output_type": "stream",
          "text": [
            "\n",
            "✅ Evaluated 484 images\n",
            "Top-1 Accuracy: 90.91%\n",
            "Top-5 Accuracy: 97.31%\n"
          ]
        },
        {
          "name": "stderr",
          "output_type": "stream",
          "text": [
            "\n"
          ]
        }
      ],
      "source": [
        "import os\n",
        "import json\n",
        "import torch\n",
        "import torchvision\n",
        "import torchvision.transforms as transforms\n",
        "from torch.utils.data import DataLoader\n",
        "from tqdm import tqdm\n",
        "import numpy as np\n",
        "\n",
        "# -------------------------------\n",
        "# STEP 1: Device setup\n",
        "# -------------------------------\n",
        "device = torch.device(\"cuda\" if torch.cuda.is_available() else \"cpu\")\n",
        "print(f\"Using device: {device}\")\n",
        "\n",
        "# -------------------------------\n",
        "# STEP 2: Load model\n",
        "# -------------------------------\n",
        "model = torchvision.models.resnet34(weights=\"IMAGENET1K_V1\")\n",
        "model.eval()\n",
        "model.to(device)\n",
        "\n",
        "# -------------------------------\n",
        "# STEP 3: Load and normalize data\n",
        "# -------------------------------\n",
        "mean_norms = np.array([0.485, 0.456, 0.406])\n",
        "std_norms  = np.array([0.229, 0.224, 0.225])\n",
        "transform = transforms.Compose([\n",
        "    transforms.ToTensor(),\n",
        "    transforms.Normalize(mean=mean_norms, std=std_norms)\n",
        "])\n",
        "\n",
        "dataset = torchvision.datasets.ImageFolder(root=DATASET_FOLDER, transform=transform)\n",
        "loader = DataLoader(dataset, batch_size=32, shuffle=False)\n",
        "\n",
        "# -------------------------------\n",
        "# STEP 4: Parse labels JSON\n",
        "# -------------------------------\n",
        "with open(LABELS_JSON, \"r\") as f:\n",
        "    raw = json.load(f)\n",
        "\n",
        "# Build:\n",
        "# - dataset label idx (0–99) → ImageNet idx (401–500)\n",
        "# - ImageNet idx → class_name\n",
        "# - ImageNet idx → new class ID (1–100)\n",
        "imagenet_indices = []\n",
        "name_map = {}\n",
        "id_map = {}\n",
        "\n",
        "for i, entry in enumerate(raw):\n",
        "    idx_str, class_name = entry.split(\":\", 1)\n",
        "    imagenet_id = int(idx_str.strip())         # 401 → 500\n",
        "    imagenet_indices.append(imagenet_id)       # ordered list\n",
        "    name_map[imagenet_id] = class_name.strip() # 401 → \"accordion\"\n",
        "    id_map[imagenet_id] = i + 1                # 401 → 1, 402 → 2, ..., 500 → 100\n",
        "\n",
        "# dataset label → ImageNet index (401–500)\n",
        "label_map = {i: imagenet_indices[i] for i in range(len(imagenet_indices))}\n",
        "\n",
        "# -------------------------------\n",
        "# STEP 5: Evaluate accuracy\n",
        "# -------------------------------\n",
        "top1, top5, total = 0, 0, 0\n",
        "printed = 0\n",
        "print_limit = 5\n",
        "\n",
        "with torch.no_grad():\n",
        "    for images, labels in tqdm(loader):\n",
        "        images = images.to(device)\n",
        "        labels = labels.to(device)\n",
        "        outputs = model(images)\n",
        "        preds = outputs.topk(5, dim=1).indices  # shape: [batch_size, 5]\n",
        "\n",
        "        for i in range(images.size(0)):\n",
        "            dataset_label = labels[i].item()             # 0–99\n",
        "            true_imagenet = label_map[dataset_label]     # e.g. 401\n",
        "            true_class_id = id_map[true_imagenet]        # e.g. 1–100\n",
        "\n",
        "            top5_preds = preds[i].tolist()\n",
        "            top5_class_ids = [id_map[p] for p in top5_preds if p in id_map]\n",
        "\n",
        "            if len(top5_class_ids) == 0:\n",
        "                continue  # skip if none of the top5 are in our 100-class subset\n",
        "\n",
        "            if top5_class_ids[0] == true_class_id:\n",
        "                top1 += 1\n",
        "            if true_class_id in top5_class_ids:\n",
        "                top5 += 1\n",
        "            total += 1\n",
        "\n",
        "            if printed < print_limit:\n",
        "                print(f\"Example {printed+1}: GT={true_class_id:3d} ({name_map[true_imagenet]}) | \"\n",
        "                      f\"Pred={top5_class_ids[0]:3d} ({name_map.get(top5_preds[0], '[Unknown]')}) | \"\n",
        "                      f\"Top5={top5_class_ids}\")\n",
        "                printed += 1\n",
        "\n",
        "# -------------------------------\n",
        "# STEP 6: Final results\n",
        "# -------------------------------\n",
        "print(f\"\\n✅ Evaluated {total} images\")\n",
        "print(f\"Top-1 Accuracy: {top1 / total * 100:.2f}%\")\n",
        "print(f\"Top-5 Accuracy: {top5 / total * 100:.2f}%\")\n"
      ]
    }
  ],
  "metadata": {
    "accelerator": "GPU",
    "colab": {
      "gpuType": "T4",
      "provenance": []
    },
    "kernelspec": {
      "display_name": "Python 3",
      "name": "python3"
    },
    "language_info": {
      "name": "python"
    }
  },
  "nbformat": 4,
  "nbformat_minor": 0
}
